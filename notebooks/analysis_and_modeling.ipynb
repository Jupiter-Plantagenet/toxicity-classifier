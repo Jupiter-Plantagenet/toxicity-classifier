{
  "nbformat": 4,
  "nbformat_minor": 0,
  "metadata": {
    "colab": {
      "provenance": [],
      "gpuType": "T4"
    },
    "kernelspec": {
      "name": "python3",
      "display_name": "Python 3"
    },
    "language_info": {
      "name": "python"
    },
    "accelerator": "GPU",
    "widgets": {
      "application/vnd.jupyter.widget-state+json": {
        "ccb780e2e8d84f909882470aaa5c22e7": {
          "model_module": "@jupyter-widgets/controls",
          "model_name": "HBoxModel",
          "model_module_version": "1.5.0",
          "state": {
            "_dom_classes": [],
            "_model_module": "@jupyter-widgets/controls",
            "_model_module_version": "1.5.0",
            "_model_name": "HBoxModel",
            "_view_count": null,
            "_view_module": "@jupyter-widgets/controls",
            "_view_module_version": "1.5.0",
            "_view_name": "HBoxView",
            "box_style": "",
            "children": [
              "IPY_MODEL_0601a3a7794e40308fe049f8a98579a1",
              "IPY_MODEL_73f9a2ce9db54024909acb99a9575df7",
              "IPY_MODEL_71919e73f56f4de6bd75b7a9966527ad"
            ],
            "layout": "IPY_MODEL_28f08f4a38a34f709025d3a99f05bea5"
          }
        },
        "0601a3a7794e40308fe049f8a98579a1": {
          "model_module": "@jupyter-widgets/controls",
          "model_name": "HTMLModel",
          "model_module_version": "1.5.0",
          "state": {
            "_dom_classes": [],
            "_model_module": "@jupyter-widgets/controls",
            "_model_module_version": "1.5.0",
            "_model_name": "HTMLModel",
            "_view_count": null,
            "_view_module": "@jupyter-widgets/controls",
            "_view_module_version": "1.5.0",
            "_view_name": "HTMLView",
            "description": "",
            "description_tooltip": null,
            "layout": "IPY_MODEL_4a02b7fb330f4b28b14e207792e870a1",
            "placeholder": "​",
            "style": "IPY_MODEL_c7d1f9dc71c24d7c969f3b48536507e2",
            "value": "Map: 100%"
          }
        },
        "73f9a2ce9db54024909acb99a9575df7": {
          "model_module": "@jupyter-widgets/controls",
          "model_name": "FloatProgressModel",
          "model_module_version": "1.5.0",
          "state": {
            "_dom_classes": [],
            "_model_module": "@jupyter-widgets/controls",
            "_model_module_version": "1.5.0",
            "_model_name": "FloatProgressModel",
            "_view_count": null,
            "_view_module": "@jupyter-widgets/controls",
            "_view_module_version": "1.5.0",
            "_view_name": "ProgressView",
            "bar_style": "success",
            "description": "",
            "description_tooltip": null,
            "layout": "IPY_MODEL_dc02be90009e4f329dcde46145284b63",
            "max": 143613,
            "min": 0,
            "orientation": "horizontal",
            "style": "IPY_MODEL_bc7c4e4bc18e47d5a1885200eb7de96e",
            "value": 143613
          }
        },
        "71919e73f56f4de6bd75b7a9966527ad": {
          "model_module": "@jupyter-widgets/controls",
          "model_name": "HTMLModel",
          "model_module_version": "1.5.0",
          "state": {
            "_dom_classes": [],
            "_model_module": "@jupyter-widgets/controls",
            "_model_module_version": "1.5.0",
            "_model_name": "HTMLModel",
            "_view_count": null,
            "_view_module": "@jupyter-widgets/controls",
            "_view_module_version": "1.5.0",
            "_view_name": "HTMLView",
            "description": "",
            "description_tooltip": null,
            "layout": "IPY_MODEL_2a2a5ed6e3604422b9139ccdb19563b5",
            "placeholder": "​",
            "style": "IPY_MODEL_007029d43be349ab9428b4fcac87e300",
            "value": " 143613/143613 [01:22&lt;00:00, 2683.67 examples/s]"
          }
        },
        "28f08f4a38a34f709025d3a99f05bea5": {
          "model_module": "@jupyter-widgets/base",
          "model_name": "LayoutModel",
          "model_module_version": "1.2.0",
          "state": {
            "_model_module": "@jupyter-widgets/base",
            "_model_module_version": "1.2.0",
            "_model_name": "LayoutModel",
            "_view_count": null,
            "_view_module": "@jupyter-widgets/base",
            "_view_module_version": "1.2.0",
            "_view_name": "LayoutView",
            "align_content": null,
            "align_items": null,
            "align_self": null,
            "border": null,
            "bottom": null,
            "display": null,
            "flex": null,
            "flex_flow": null,
            "grid_area": null,
            "grid_auto_columns": null,
            "grid_auto_flow": null,
            "grid_auto_rows": null,
            "grid_column": null,
            "grid_gap": null,
            "grid_row": null,
            "grid_template_areas": null,
            "grid_template_columns": null,
            "grid_template_rows": null,
            "height": null,
            "justify_content": null,
            "justify_items": null,
            "left": null,
            "margin": null,
            "max_height": null,
            "max_width": null,
            "min_height": null,
            "min_width": null,
            "object_fit": null,
            "object_position": null,
            "order": null,
            "overflow": null,
            "overflow_x": null,
            "overflow_y": null,
            "padding": null,
            "right": null,
            "top": null,
            "visibility": null,
            "width": null
          }
        },
        "4a02b7fb330f4b28b14e207792e870a1": {
          "model_module": "@jupyter-widgets/base",
          "model_name": "LayoutModel",
          "model_module_version": "1.2.0",
          "state": {
            "_model_module": "@jupyter-widgets/base",
            "_model_module_version": "1.2.0",
            "_model_name": "LayoutModel",
            "_view_count": null,
            "_view_module": "@jupyter-widgets/base",
            "_view_module_version": "1.2.0",
            "_view_name": "LayoutView",
            "align_content": null,
            "align_items": null,
            "align_self": null,
            "border": null,
            "bottom": null,
            "display": null,
            "flex": null,
            "flex_flow": null,
            "grid_area": null,
            "grid_auto_columns": null,
            "grid_auto_flow": null,
            "grid_auto_rows": null,
            "grid_column": null,
            "grid_gap": null,
            "grid_row": null,
            "grid_template_areas": null,
            "grid_template_columns": null,
            "grid_template_rows": null,
            "height": null,
            "justify_content": null,
            "justify_items": null,
            "left": null,
            "margin": null,
            "max_height": null,
            "max_width": null,
            "min_height": null,
            "min_width": null,
            "object_fit": null,
            "object_position": null,
            "order": null,
            "overflow": null,
            "overflow_x": null,
            "overflow_y": null,
            "padding": null,
            "right": null,
            "top": null,
            "visibility": null,
            "width": null
          }
        },
        "c7d1f9dc71c24d7c969f3b48536507e2": {
          "model_module": "@jupyter-widgets/controls",
          "model_name": "DescriptionStyleModel",
          "model_module_version": "1.5.0",
          "state": {
            "_model_module": "@jupyter-widgets/controls",
            "_model_module_version": "1.5.0",
            "_model_name": "DescriptionStyleModel",
            "_view_count": null,
            "_view_module": "@jupyter-widgets/base",
            "_view_module_version": "1.2.0",
            "_view_name": "StyleView",
            "description_width": ""
          }
        },
        "dc02be90009e4f329dcde46145284b63": {
          "model_module": "@jupyter-widgets/base",
          "model_name": "LayoutModel",
          "model_module_version": "1.2.0",
          "state": {
            "_model_module": "@jupyter-widgets/base",
            "_model_module_version": "1.2.0",
            "_model_name": "LayoutModel",
            "_view_count": null,
            "_view_module": "@jupyter-widgets/base",
            "_view_module_version": "1.2.0",
            "_view_name": "LayoutView",
            "align_content": null,
            "align_items": null,
            "align_self": null,
            "border": null,
            "bottom": null,
            "display": null,
            "flex": null,
            "flex_flow": null,
            "grid_area": null,
            "grid_auto_columns": null,
            "grid_auto_flow": null,
            "grid_auto_rows": null,
            "grid_column": null,
            "grid_gap": null,
            "grid_row": null,
            "grid_template_areas": null,
            "grid_template_columns": null,
            "grid_template_rows": null,
            "height": null,
            "justify_content": null,
            "justify_items": null,
            "left": null,
            "margin": null,
            "max_height": null,
            "max_width": null,
            "min_height": null,
            "min_width": null,
            "object_fit": null,
            "object_position": null,
            "order": null,
            "overflow": null,
            "overflow_x": null,
            "overflow_y": null,
            "padding": null,
            "right": null,
            "top": null,
            "visibility": null,
            "width": null
          }
        },
        "bc7c4e4bc18e47d5a1885200eb7de96e": {
          "model_module": "@jupyter-widgets/controls",
          "model_name": "ProgressStyleModel",
          "model_module_version": "1.5.0",
          "state": {
            "_model_module": "@jupyter-widgets/controls",
            "_model_module_version": "1.5.0",
            "_model_name": "ProgressStyleModel",
            "_view_count": null,
            "_view_module": "@jupyter-widgets/base",
            "_view_module_version": "1.2.0",
            "_view_name": "StyleView",
            "bar_color": null,
            "description_width": ""
          }
        },
        "2a2a5ed6e3604422b9139ccdb19563b5": {
          "model_module": "@jupyter-widgets/base",
          "model_name": "LayoutModel",
          "model_module_version": "1.2.0",
          "state": {
            "_model_module": "@jupyter-widgets/base",
            "_model_module_version": "1.2.0",
            "_model_name": "LayoutModel",
            "_view_count": null,
            "_view_module": "@jupyter-widgets/base",
            "_view_module_version": "1.2.0",
            "_view_name": "LayoutView",
            "align_content": null,
            "align_items": null,
            "align_self": null,
            "border": null,
            "bottom": null,
            "display": null,
            "flex": null,
            "flex_flow": null,
            "grid_area": null,
            "grid_auto_columns": null,
            "grid_auto_flow": null,
            "grid_auto_rows": null,
            "grid_column": null,
            "grid_gap": null,
            "grid_row": null,
            "grid_template_areas": null,
            "grid_template_columns": null,
            "grid_template_rows": null,
            "height": null,
            "justify_content": null,
            "justify_items": null,
            "left": null,
            "margin": null,
            "max_height": null,
            "max_width": null,
            "min_height": null,
            "min_width": null,
            "object_fit": null,
            "object_position": null,
            "order": null,
            "overflow": null,
            "overflow_x": null,
            "overflow_y": null,
            "padding": null,
            "right": null,
            "top": null,
            "visibility": null,
            "width": null
          }
        },
        "007029d43be349ab9428b4fcac87e300": {
          "model_module": "@jupyter-widgets/controls",
          "model_name": "DescriptionStyleModel",
          "model_module_version": "1.5.0",
          "state": {
            "_model_module": "@jupyter-widgets/controls",
            "_model_module_version": "1.5.0",
            "_model_name": "DescriptionStyleModel",
            "_view_count": null,
            "_view_module": "@jupyter-widgets/base",
            "_view_module_version": "1.2.0",
            "_view_name": "StyleView",
            "description_width": ""
          }
        },
        "439747c727da40088873e10351d1c526": {
          "model_module": "@jupyter-widgets/controls",
          "model_name": "HBoxModel",
          "model_module_version": "1.5.0",
          "state": {
            "_dom_classes": [],
            "_model_module": "@jupyter-widgets/controls",
            "_model_module_version": "1.5.0",
            "_model_name": "HBoxModel",
            "_view_count": null,
            "_view_module": "@jupyter-widgets/controls",
            "_view_module_version": "1.5.0",
            "_view_name": "HBoxView",
            "box_style": "",
            "children": [
              "IPY_MODEL_36cfa94894034deca88f5c392ed539b3",
              "IPY_MODEL_4edce183c0ab4619bfed0e38fadc696a",
              "IPY_MODEL_680b35245780416597b12564710b720f"
            ],
            "layout": "IPY_MODEL_366465e56a024309bfd158282ae91d02"
          }
        },
        "36cfa94894034deca88f5c392ed539b3": {
          "model_module": "@jupyter-widgets/controls",
          "model_name": "HTMLModel",
          "model_module_version": "1.5.0",
          "state": {
            "_dom_classes": [],
            "_model_module": "@jupyter-widgets/controls",
            "_model_module_version": "1.5.0",
            "_model_name": "HTMLModel",
            "_view_count": null,
            "_view_module": "@jupyter-widgets/controls",
            "_view_module_version": "1.5.0",
            "_view_name": "HTMLView",
            "description": "",
            "description_tooltip": null,
            "layout": "IPY_MODEL_541349ea4fb145a68684e43ba5c266bb",
            "placeholder": "​",
            "style": "IPY_MODEL_32b5991b90724a88933d7c9705f68637",
            "value": "Map: 100%"
          }
        },
        "4edce183c0ab4619bfed0e38fadc696a": {
          "model_module": "@jupyter-widgets/controls",
          "model_name": "FloatProgressModel",
          "model_module_version": "1.5.0",
          "state": {
            "_dom_classes": [],
            "_model_module": "@jupyter-widgets/controls",
            "_model_module_version": "1.5.0",
            "_model_name": "FloatProgressModel",
            "_view_count": null,
            "_view_module": "@jupyter-widgets/controls",
            "_view_module_version": "1.5.0",
            "_view_name": "ProgressView",
            "bar_style": "success",
            "description": "",
            "description_tooltip": null,
            "layout": "IPY_MODEL_f3240116a8354a41988e82a1c21acea5",
            "max": 15958,
            "min": 0,
            "orientation": "horizontal",
            "style": "IPY_MODEL_3cc4dc6b8aad46e789b25a1825f78c39",
            "value": 15958
          }
        },
        "680b35245780416597b12564710b720f": {
          "model_module": "@jupyter-widgets/controls",
          "model_name": "HTMLModel",
          "model_module_version": "1.5.0",
          "state": {
            "_dom_classes": [],
            "_model_module": "@jupyter-widgets/controls",
            "_model_module_version": "1.5.0",
            "_model_name": "HTMLModel",
            "_view_count": null,
            "_view_module": "@jupyter-widgets/controls",
            "_view_module_version": "1.5.0",
            "_view_name": "HTMLView",
            "description": "",
            "description_tooltip": null,
            "layout": "IPY_MODEL_0649abe4eb774823926f7b538321cdb3",
            "placeholder": "​",
            "style": "IPY_MODEL_af31e99f41a34bbeafa901465530a339",
            "value": " 15958/15958 [00:04&lt;00:00, 3302.96 examples/s]"
          }
        },
        "366465e56a024309bfd158282ae91d02": {
          "model_module": "@jupyter-widgets/base",
          "model_name": "LayoutModel",
          "model_module_version": "1.2.0",
          "state": {
            "_model_module": "@jupyter-widgets/base",
            "_model_module_version": "1.2.0",
            "_model_name": "LayoutModel",
            "_view_count": null,
            "_view_module": "@jupyter-widgets/base",
            "_view_module_version": "1.2.0",
            "_view_name": "LayoutView",
            "align_content": null,
            "align_items": null,
            "align_self": null,
            "border": null,
            "bottom": null,
            "display": null,
            "flex": null,
            "flex_flow": null,
            "grid_area": null,
            "grid_auto_columns": null,
            "grid_auto_flow": null,
            "grid_auto_rows": null,
            "grid_column": null,
            "grid_gap": null,
            "grid_row": null,
            "grid_template_areas": null,
            "grid_template_columns": null,
            "grid_template_rows": null,
            "height": null,
            "justify_content": null,
            "justify_items": null,
            "left": null,
            "margin": null,
            "max_height": null,
            "max_width": null,
            "min_height": null,
            "min_width": null,
            "object_fit": null,
            "object_position": null,
            "order": null,
            "overflow": null,
            "overflow_x": null,
            "overflow_y": null,
            "padding": null,
            "right": null,
            "top": null,
            "visibility": null,
            "width": null
          }
        },
        "541349ea4fb145a68684e43ba5c266bb": {
          "model_module": "@jupyter-widgets/base",
          "model_name": "LayoutModel",
          "model_module_version": "1.2.0",
          "state": {
            "_model_module": "@jupyter-widgets/base",
            "_model_module_version": "1.2.0",
            "_model_name": "LayoutModel",
            "_view_count": null,
            "_view_module": "@jupyter-widgets/base",
            "_view_module_version": "1.2.0",
            "_view_name": "LayoutView",
            "align_content": null,
            "align_items": null,
            "align_self": null,
            "border": null,
            "bottom": null,
            "display": null,
            "flex": null,
            "flex_flow": null,
            "grid_area": null,
            "grid_auto_columns": null,
            "grid_auto_flow": null,
            "grid_auto_rows": null,
            "grid_column": null,
            "grid_gap": null,
            "grid_row": null,
            "grid_template_areas": null,
            "grid_template_columns": null,
            "grid_template_rows": null,
            "height": null,
            "justify_content": null,
            "justify_items": null,
            "left": null,
            "margin": null,
            "max_height": null,
            "max_width": null,
            "min_height": null,
            "min_width": null,
            "object_fit": null,
            "object_position": null,
            "order": null,
            "overflow": null,
            "overflow_x": null,
            "overflow_y": null,
            "padding": null,
            "right": null,
            "top": null,
            "visibility": null,
            "width": null
          }
        },
        "32b5991b90724a88933d7c9705f68637": {
          "model_module": "@jupyter-widgets/controls",
          "model_name": "DescriptionStyleModel",
          "model_module_version": "1.5.0",
          "state": {
            "_model_module": "@jupyter-widgets/controls",
            "_model_module_version": "1.5.0",
            "_model_name": "DescriptionStyleModel",
            "_view_count": null,
            "_view_module": "@jupyter-widgets/base",
            "_view_module_version": "1.2.0",
            "_view_name": "StyleView",
            "description_width": ""
          }
        },
        "f3240116a8354a41988e82a1c21acea5": {
          "model_module": "@jupyter-widgets/base",
          "model_name": "LayoutModel",
          "model_module_version": "1.2.0",
          "state": {
            "_model_module": "@jupyter-widgets/base",
            "_model_module_version": "1.2.0",
            "_model_name": "LayoutModel",
            "_view_count": null,
            "_view_module": "@jupyter-widgets/base",
            "_view_module_version": "1.2.0",
            "_view_name": "LayoutView",
            "align_content": null,
            "align_items": null,
            "align_self": null,
            "border": null,
            "bottom": null,
            "display": null,
            "flex": null,
            "flex_flow": null,
            "grid_area": null,
            "grid_auto_columns": null,
            "grid_auto_flow": null,
            "grid_auto_rows": null,
            "grid_column": null,
            "grid_gap": null,
            "grid_row": null,
            "grid_template_areas": null,
            "grid_template_columns": null,
            "grid_template_rows": null,
            "height": null,
            "justify_content": null,
            "justify_items": null,
            "left": null,
            "margin": null,
            "max_height": null,
            "max_width": null,
            "min_height": null,
            "min_width": null,
            "object_fit": null,
            "object_position": null,
            "order": null,
            "overflow": null,
            "overflow_x": null,
            "overflow_y": null,
            "padding": null,
            "right": null,
            "top": null,
            "visibility": null,
            "width": null
          }
        },
        "3cc4dc6b8aad46e789b25a1825f78c39": {
          "model_module": "@jupyter-widgets/controls",
          "model_name": "ProgressStyleModel",
          "model_module_version": "1.5.0",
          "state": {
            "_model_module": "@jupyter-widgets/controls",
            "_model_module_version": "1.5.0",
            "_model_name": "ProgressStyleModel",
            "_view_count": null,
            "_view_module": "@jupyter-widgets/base",
            "_view_module_version": "1.2.0",
            "_view_name": "StyleView",
            "bar_color": null,
            "description_width": ""
          }
        },
        "0649abe4eb774823926f7b538321cdb3": {
          "model_module": "@jupyter-widgets/base",
          "model_name": "LayoutModel",
          "model_module_version": "1.2.0",
          "state": {
            "_model_module": "@jupyter-widgets/base",
            "_model_module_version": "1.2.0",
            "_model_name": "LayoutModel",
            "_view_count": null,
            "_view_module": "@jupyter-widgets/base",
            "_view_module_version": "1.2.0",
            "_view_name": "LayoutView",
            "align_content": null,
            "align_items": null,
            "align_self": null,
            "border": null,
            "bottom": null,
            "display": null,
            "flex": null,
            "flex_flow": null,
            "grid_area": null,
            "grid_auto_columns": null,
            "grid_auto_flow": null,
            "grid_auto_rows": null,
            "grid_column": null,
            "grid_gap": null,
            "grid_row": null,
            "grid_template_areas": null,
            "grid_template_columns": null,
            "grid_template_rows": null,
            "height": null,
            "justify_content": null,
            "justify_items": null,
            "left": null,
            "margin": null,
            "max_height": null,
            "max_width": null,
            "min_height": null,
            "min_width": null,
            "object_fit": null,
            "object_position": null,
            "order": null,
            "overflow": null,
            "overflow_x": null,
            "overflow_y": null,
            "padding": null,
            "right": null,
            "top": null,
            "visibility": null,
            "width": null
          }
        },
        "af31e99f41a34bbeafa901465530a339": {
          "model_module": "@jupyter-widgets/controls",
          "model_name": "DescriptionStyleModel",
          "model_module_version": "1.5.0",
          "state": {
            "_model_module": "@jupyter-widgets/controls",
            "_model_module_version": "1.5.0",
            "_model_name": "DescriptionStyleModel",
            "_view_count": null,
            "_view_module": "@jupyter-widgets/base",
            "_view_module_version": "1.2.0",
            "_view_name": "StyleView",
            "description_width": ""
          }
        }
      }
    }
  },
  "cells": [
    {
      "cell_type": "markdown",
      "source": [
        "#Toxicity & Threat Classifier for Online Communities\n",
        "## A Multi-Label Text Classification Project using Hugging Face & PyTorch\n",
        "\n",
        "- Author: George Akor\n",
        "- Date: June 14, 2025\n",
        "- Contact: georgejupiter303@gmail.com\n",
        "- LinkedIn: www.linkedin.com/in/george-akor-65953819a\n",
        "\n",
        "This notebook documents the end-to-end process of building a nuanced, context-aware model to classify online comments into six categories: `toxic`, `severe_toxic`, `obscene`, `threat`, `insult`, and `identity_hate`.\n",
        "\n",
        "- **Problem:** Simple keyword filters are insufficient for moderating today's online communities. They lack the ability to understand context, nuance, and the subtle ways harmful language can manifest.\n",
        "- **Solution:** To address this, I fine-tuned a pre-trained Transformer model (DistilBERT) on the well-known Jigsaw Toxic Comment Classification dataset to perform multi-label classification.\n",
        "- **Tech Stack:** Python, PyTorch, Hugging Face (transformers, datasets), Scikit-learn, Pandas, and Matplotlib/Seaborn."
      ],
      "metadata": {
        "id": "96zOxf4611CF"
      }
    },
    {
      "cell_type": "markdown",
      "source": [
        "#1. Setup: Environment & Dependencies\n",
        "\n",
        "First, we'll set up our Google Colab environment to use a free GPU, connect it to Google Drive for persistent storage, and install the required libraries."
      ],
      "metadata": {
        "id": "Niu5_Jlt2akK"
      }
    },
    {
      "cell_type": "code",
      "execution_count": 10,
      "metadata": {
        "colab": {
          "base_uri": "https://localhost:8080/"
        },
        "id": "wxSUkPVR1fD8",
        "outputId": "aff706b2-e6c2-434b-d479-410542a5f293"
      },
      "outputs": [
        {
          "output_type": "stream",
          "name": "stdout",
          "text": [
            "Sat Jun 14 07:39:53 2025       \n",
            "+-----------------------------------------------------------------------------------------+\n",
            "| NVIDIA-SMI 550.54.15              Driver Version: 550.54.15      CUDA Version: 12.4     |\n",
            "|-----------------------------------------+------------------------+----------------------+\n",
            "| GPU  Name                 Persistence-M | Bus-Id          Disp.A | Volatile Uncorr. ECC |\n",
            "| Fan  Temp   Perf          Pwr:Usage/Cap |           Memory-Usage | GPU-Util  Compute M. |\n",
            "|                                         |                        |               MIG M. |\n",
            "|=========================================+========================+======================|\n",
            "|   0  Tesla T4                       Off |   00000000:00:04.0 Off |                    0 |\n",
            "| N/A   49C    P0             29W /   70W |     120MiB /  15360MiB |      0%      Default |\n",
            "|                                         |                        |                  N/A |\n",
            "+-----------------------------------------+------------------------+----------------------+\n",
            "                                                                                         \n",
            "+-----------------------------------------------------------------------------------------+\n",
            "| Processes:                                                                              |\n",
            "|  GPU   GI   CI        PID   Type   Process name                              GPU Memory |\n",
            "|        ID   ID                                                               Usage      |\n",
            "|=========================================================================================|\n",
            "+-----------------------------------------------------------------------------------------+\n"
          ]
        }
      ],
      "source": [
        "# @title 1.1: Connect to GPU\n",
        "# Verify that we have a GPU allocated. If not, go to Runtime > Change runtime type and select \"T4 GPU\".\n",
        "!nvidia-smi"
      ]
    },
    {
      "cell_type": "code",
      "source": [
        "# @title 1.2: Mount Google Drive\n",
        "# This allows us to save our models and other assets permanently.\n",
        "from google.colab import drive\n",
        "drive.mount('/content/drive')"
      ],
      "metadata": {
        "colab": {
          "base_uri": "https://localhost:8080/"
        },
        "id": "vjLeZKdJ2q6F",
        "outputId": "c8769f00-0a5d-4b54-f887-6aa35692558e"
      },
      "execution_count": 11,
      "outputs": [
        {
          "output_type": "stream",
          "name": "stdout",
          "text": [
            "Drive already mounted at /content/drive; to attempt to forcibly remount, call drive.mount(\"/content/drive\", force_remount=True).\n"
          ]
        }
      ]
    },
    {
      "cell_type": "code",
      "source": [
        "# @title 1.3: Install Libraries (with NumPy Version Pinned)\n",
        "# We pin NumPy to a version before 2.0 to resolve a new incompatibility\n",
        "# with the 'datasets' library and the stricter NumPy 2.0 API.\n",
        "!pip install --upgrade \"numpy<2.0\" transformers[torch] datasets evaluate scikit-learn pandas seaborn safetensors -q"
      ],
      "metadata": {
        "id": "m1p0pDFf2uWc"
      },
      "execution_count": 12,
      "outputs": []
    },
    {
      "cell_type": "markdown",
      "source": [
        "#2. Data Loading and Exploration\n",
        "Next, we download the dataset directly from Kaggle. So we can enusre that our work's reproducible\n",
        "\n",
        "**Action Required:** You need to upload your Kaggle API token (`kaggle.json`). This is how you do it.\n",
        "\n",
        "1. Go to your Kaggle account, click on your profile picture, and select \"Account\".\n",
        "2. Scroll down to the \"API\" section and click \"Create New Token\". This will download `kaggle.json`.\n",
        "3. Upload `kaggle.json` to the Colab file explorer (the folder icon on the left)."
      ],
      "metadata": {
        "id": "vDZhth5_2wxR"
      }
    },
    {
      "cell_type": "code",
      "source": [
        "# @title 2.1: Configure Kaggle API\n",
        "import os\n",
        "\n",
        "# Move the Kaggle API key to the required directory\n",
        "!mkdir -p ~/.kaggle\n",
        "!cp kaggle.json ~/.kaggle/\n",
        "!chmod 600 ~/.kaggle/kaggle.json\n",
        "\n",
        "# Set a project directory in Google Drive\n",
        "DRIVE_PROJECT_PATH = \"/content/drive/MyDrive/ToxicityClassifier\"\n",
        "os.makedirs(DRIVE_PROJECT_PATH, exist_ok=True)"
      ],
      "metadata": {
        "id": "FcGwxfi-3GlN"
      },
      "execution_count": 13,
      "outputs": []
    },
    {
      "cell_type": "code",
      "source": [
        "# @title 2.2: Download, Verify, and Unzip (Final Pythonic Version)\n",
        "import os\n",
        "import glob\n",
        "import subprocess\n",
        "\n",
        "ZIP_FILE_NAME = \"jigsaw-toxic-comment-classification-challenge.zip\"\n",
        "DATA_DIRECTORY = \"jigsaw_data\"\n",
        "COMPETITION_NAME = \"jigsaw-toxic-comment-classification-challenge\"\n",
        "\n",
        "# --- Step 1: Download the main competition zip file ---\n",
        "print(f\"Attempting to download data for competition: '{COMPETITION_NAME}'...\")\n",
        "if not os.path.exists(ZIP_FILE_NAME):\n",
        "    !kaggle competitions download -c {COMPETITION_NAME}\n",
        "else:\n",
        "    print(f\"'{ZIP_FILE_NAME}' already exists. Skipping download.\")\n",
        "\n",
        "# --- Step 2: Verify the download ---\n",
        "if not os.path.exists(ZIP_FILE_NAME):\n",
        "    raise Exception(\"Could not download dataset from Kaggle. Please check your API key and accept the competition rules.\")\n",
        "\n",
        "# --- Step 3: Unzip the main file ---\n",
        "print(f\"\\n✅ Main zip file '{ZIP_FILE_NAME}' found.\")\n",
        "print(\"Unzipping all contents...\")\n",
        "os.makedirs(DATA_DIRECTORY, exist_ok=True)\n",
        "!unzip -o {ZIP_FILE_NAME} -d {DATA_DIRECTORY}\n",
        "\n",
        "\n",
        "# --- Step 4: Unzip the nested CSV files using Python ---\n",
        "print(\"\\nUnzipping nested CSV files...\")\n",
        "# Use Python's glob to find all .zip files in the data directory\n",
        "zip_files = glob.glob(f'{DATA_DIRECTORY}/*.zip')\n",
        "\n",
        "if not zip_files:\n",
        "    print(\"No nested zip files found to unzip.\")\n",
        "else:\n",
        "    for file_path in zip_files:\n",
        "        print(f\"  - Unzipping {file_path}\")\n",
        "        # Use subprocess to call the unzip command safely\n",
        "        # We extract to the same directory, so we use the -d flag\n",
        "        subprocess.run(['unzip', '-o', file_path, '-d', DATA_DIRECTORY])\n",
        "\n",
        "print(\"\\n--- Final contents of the data directory ---\")\n",
        "# This should now show all the .csv files properly extracted.\n",
        "!ls -l {DATA_DIRECTORY}"
      ],
      "metadata": {
        "colab": {
          "base_uri": "https://localhost:8080/"
        },
        "id": "kow2vm9Y3Koy",
        "outputId": "34cfacbe-efb5-4c37-e57c-eb62b4cd0b4e"
      },
      "execution_count": 14,
      "outputs": [
        {
          "output_type": "stream",
          "name": "stdout",
          "text": [
            "Attempting to download data for competition: 'jigsaw-toxic-comment-classification-challenge'...\n",
            "'jigsaw-toxic-comment-classification-challenge.zip' already exists. Skipping download.\n",
            "\n",
            "✅ Main zip file 'jigsaw-toxic-comment-classification-challenge.zip' found.\n",
            "Unzipping all contents...\n",
            "Archive:  jigsaw-toxic-comment-classification-challenge.zip\n",
            "  inflating: jigsaw_data/sample_submission.csv.zip  \n",
            "  inflating: jigsaw_data/test.csv.zip  \n",
            "  inflating: jigsaw_data/test_labels.csv.zip  \n",
            "  inflating: jigsaw_data/train.csv.zip  \n",
            "\n",
            "Unzipping nested CSV files...\n",
            "  - Unzipping jigsaw_data/test_labels.csv.zip\n",
            "  - Unzipping jigsaw_data/train.csv.zip\n",
            "  - Unzipping jigsaw_data/test.csv.zip\n",
            "  - Unzipping jigsaw_data/sample_submission.csv.zip\n",
            "\n",
            "--- Final contents of the data directory ---\n",
            "total 191036\n",
            "-rw-r--r-- 1 root root  6279782 Jun 19  2018 sample_submission.csv\n",
            "-rw-r--r-- 1 root root  1459715 Dec 11  2019 sample_submission.csv.zip\n",
            "-rw-r--r-- 1 root root 60354593 Jan 18  2018 test.csv\n",
            "-rw-r--r-- 1 root root 24577258 Dec 11  2019 test.csv.zip\n",
            "-rw-r--r-- 1 root root  4976930 Jun 19  2018 test_labels.csv\n",
            "-rw-r--r-- 1 root root  1527605 Dec 11  2019 test_labels.csv.zip\n",
            "-rw-r--r-- 1 root root 68802655 Jan 18  2018 train.csv\n",
            "-rw-r--r-- 1 root root 27619914 Dec 11  2019 train.csv.zip\n"
          ]
        }
      ]
    },
    {
      "cell_type": "markdown",
      "source": [
        "Now, let's load the training data with Pandas and take a first look."
      ],
      "metadata": {
        "id": "5VfwCPDm3NuY"
      }
    },
    {
      "cell_type": "code",
      "source": [
        "# @title 2.3: Load Data and Initial Inspection\n",
        "import pandas as pd\n",
        "\n",
        "DATA_PATH = \"jigsaw_data/train.csv\"\n",
        "df = pd.read_csv(DATA_PATH)\n",
        "\n",
        "print(\"Data shape:\", df.shape)\n",
        "print(\"\\nFirst 5 rows:\")\n",
        "display(df.head())\n",
        "\n",
        "print(\"\\nData Info:\")\n",
        "df.info()\n",
        "\n",
        "print(\"\\nMissing values:\")\n",
        "print(df.isnull().sum())"
      ],
      "metadata": {
        "colab": {
          "base_uri": "https://localhost:8080/",
          "height": 744
        },
        "id": "ybASqc3b3PjV",
        "outputId": "d04597d2-2561-4da8-bf80-f31a74e20117"
      },
      "execution_count": 15,
      "outputs": [
        {
          "output_type": "stream",
          "name": "stdout",
          "text": [
            "Data shape: (159571, 8)\n",
            "\n",
            "First 5 rows:\n"
          ]
        },
        {
          "output_type": "display_data",
          "data": {
            "text/plain": [
              "                 id                                       comment_text  toxic  \\\n",
              "0  0000997932d777bf  Explanation\\nWhy the edits made under my usern...      0   \n",
              "1  000103f0d9cfb60f  D'aww! He matches this background colour I'm s...      0   \n",
              "2  000113f07ec002fd  Hey man, I'm really not trying to edit war. It...      0   \n",
              "3  0001b41b1c6bb37e  \"\\nMore\\nI can't make any real suggestions on ...      0   \n",
              "4  0001d958c54c6e35  You, sir, are my hero. Any chance you remember...      0   \n",
              "\n",
              "   severe_toxic  obscene  threat  insult  identity_hate  \n",
              "0             0        0       0       0              0  \n",
              "1             0        0       0       0              0  \n",
              "2             0        0       0       0              0  \n",
              "3             0        0       0       0              0  \n",
              "4             0        0       0       0              0  "
            ],
            "text/html": [
              "\n",
              "  <div id=\"df-96bee528-6ed0-4105-89f5-6649708b58ec\" class=\"colab-df-container\">\n",
              "    <div>\n",
              "<style scoped>\n",
              "    .dataframe tbody tr th:only-of-type {\n",
              "        vertical-align: middle;\n",
              "    }\n",
              "\n",
              "    .dataframe tbody tr th {\n",
              "        vertical-align: top;\n",
              "    }\n",
              "\n",
              "    .dataframe thead th {\n",
              "        text-align: right;\n",
              "    }\n",
              "</style>\n",
              "<table border=\"1\" class=\"dataframe\">\n",
              "  <thead>\n",
              "    <tr style=\"text-align: right;\">\n",
              "      <th></th>\n",
              "      <th>id</th>\n",
              "      <th>comment_text</th>\n",
              "      <th>toxic</th>\n",
              "      <th>severe_toxic</th>\n",
              "      <th>obscene</th>\n",
              "      <th>threat</th>\n",
              "      <th>insult</th>\n",
              "      <th>identity_hate</th>\n",
              "    </tr>\n",
              "  </thead>\n",
              "  <tbody>\n",
              "    <tr>\n",
              "      <th>0</th>\n",
              "      <td>0000997932d777bf</td>\n",
              "      <td>Explanation\\nWhy the edits made under my usern...</td>\n",
              "      <td>0</td>\n",
              "      <td>0</td>\n",
              "      <td>0</td>\n",
              "      <td>0</td>\n",
              "      <td>0</td>\n",
              "      <td>0</td>\n",
              "    </tr>\n",
              "    <tr>\n",
              "      <th>1</th>\n",
              "      <td>000103f0d9cfb60f</td>\n",
              "      <td>D'aww! He matches this background colour I'm s...</td>\n",
              "      <td>0</td>\n",
              "      <td>0</td>\n",
              "      <td>0</td>\n",
              "      <td>0</td>\n",
              "      <td>0</td>\n",
              "      <td>0</td>\n",
              "    </tr>\n",
              "    <tr>\n",
              "      <th>2</th>\n",
              "      <td>000113f07ec002fd</td>\n",
              "      <td>Hey man, I'm really not trying to edit war. It...</td>\n",
              "      <td>0</td>\n",
              "      <td>0</td>\n",
              "      <td>0</td>\n",
              "      <td>0</td>\n",
              "      <td>0</td>\n",
              "      <td>0</td>\n",
              "    </tr>\n",
              "    <tr>\n",
              "      <th>3</th>\n",
              "      <td>0001b41b1c6bb37e</td>\n",
              "      <td>\"\\nMore\\nI can't make any real suggestions on ...</td>\n",
              "      <td>0</td>\n",
              "      <td>0</td>\n",
              "      <td>0</td>\n",
              "      <td>0</td>\n",
              "      <td>0</td>\n",
              "      <td>0</td>\n",
              "    </tr>\n",
              "    <tr>\n",
              "      <th>4</th>\n",
              "      <td>0001d958c54c6e35</td>\n",
              "      <td>You, sir, are my hero. Any chance you remember...</td>\n",
              "      <td>0</td>\n",
              "      <td>0</td>\n",
              "      <td>0</td>\n",
              "      <td>0</td>\n",
              "      <td>0</td>\n",
              "      <td>0</td>\n",
              "    </tr>\n",
              "  </tbody>\n",
              "</table>\n",
              "</div>\n",
              "    <div class=\"colab-df-buttons\">\n",
              "\n",
              "  <div class=\"colab-df-container\">\n",
              "    <button class=\"colab-df-convert\" onclick=\"convertToInteractive('df-96bee528-6ed0-4105-89f5-6649708b58ec')\"\n",
              "            title=\"Convert this dataframe to an interactive table.\"\n",
              "            style=\"display:none;\">\n",
              "\n",
              "  <svg xmlns=\"http://www.w3.org/2000/svg\" height=\"24px\" viewBox=\"0 -960 960 960\">\n",
              "    <path d=\"M120-120v-720h720v720H120Zm60-500h600v-160H180v160Zm220 220h160v-160H400v160Zm0 220h160v-160H400v160ZM180-400h160v-160H180v160Zm440 0h160v-160H620v160ZM180-180h160v-160H180v160Zm440 0h160v-160H620v160Z\"/>\n",
              "  </svg>\n",
              "    </button>\n",
              "\n",
              "  <style>\n",
              "    .colab-df-container {\n",
              "      display:flex;\n",
              "      gap: 12px;\n",
              "    }\n",
              "\n",
              "    .colab-df-convert {\n",
              "      background-color: #E8F0FE;\n",
              "      border: none;\n",
              "      border-radius: 50%;\n",
              "      cursor: pointer;\n",
              "      display: none;\n",
              "      fill: #1967D2;\n",
              "      height: 32px;\n",
              "      padding: 0 0 0 0;\n",
              "      width: 32px;\n",
              "    }\n",
              "\n",
              "    .colab-df-convert:hover {\n",
              "      background-color: #E2EBFA;\n",
              "      box-shadow: 0px 1px 2px rgba(60, 64, 67, 0.3), 0px 1px 3px 1px rgba(60, 64, 67, 0.15);\n",
              "      fill: #174EA6;\n",
              "    }\n",
              "\n",
              "    .colab-df-buttons div {\n",
              "      margin-bottom: 4px;\n",
              "    }\n",
              "\n",
              "    [theme=dark] .colab-df-convert {\n",
              "      background-color: #3B4455;\n",
              "      fill: #D2E3FC;\n",
              "    }\n",
              "\n",
              "    [theme=dark] .colab-df-convert:hover {\n",
              "      background-color: #434B5C;\n",
              "      box-shadow: 0px 1px 3px 1px rgba(0, 0, 0, 0.15);\n",
              "      filter: drop-shadow(0px 1px 2px rgba(0, 0, 0, 0.3));\n",
              "      fill: #FFFFFF;\n",
              "    }\n",
              "  </style>\n",
              "\n",
              "    <script>\n",
              "      const buttonEl =\n",
              "        document.querySelector('#df-96bee528-6ed0-4105-89f5-6649708b58ec button.colab-df-convert');\n",
              "      buttonEl.style.display =\n",
              "        google.colab.kernel.accessAllowed ? 'block' : 'none';\n",
              "\n",
              "      async function convertToInteractive(key) {\n",
              "        const element = document.querySelector('#df-96bee528-6ed0-4105-89f5-6649708b58ec');\n",
              "        const dataTable =\n",
              "          await google.colab.kernel.invokeFunction('convertToInteractive',\n",
              "                                                    [key], {});\n",
              "        if (!dataTable) return;\n",
              "\n",
              "        const docLinkHtml = 'Like what you see? Visit the ' +\n",
              "          '<a target=\"_blank\" href=https://colab.research.google.com/notebooks/data_table.ipynb>data table notebook</a>'\n",
              "          + ' to learn more about interactive tables.';\n",
              "        element.innerHTML = '';\n",
              "        dataTable['output_type'] = 'display_data';\n",
              "        await google.colab.output.renderOutput(dataTable, element);\n",
              "        const docLink = document.createElement('div');\n",
              "        docLink.innerHTML = docLinkHtml;\n",
              "        element.appendChild(docLink);\n",
              "      }\n",
              "    </script>\n",
              "  </div>\n",
              "\n",
              "\n",
              "    <div id=\"df-5ce90863-1666-44da-8258-25ca539de548\">\n",
              "      <button class=\"colab-df-quickchart\" onclick=\"quickchart('df-5ce90863-1666-44da-8258-25ca539de548')\"\n",
              "                title=\"Suggest charts\"\n",
              "                style=\"display:none;\">\n",
              "\n",
              "<svg xmlns=\"http://www.w3.org/2000/svg\" height=\"24px\"viewBox=\"0 0 24 24\"\n",
              "     width=\"24px\">\n",
              "    <g>\n",
              "        <path d=\"M19 3H5c-1.1 0-2 .9-2 2v14c0 1.1.9 2 2 2h14c1.1 0 2-.9 2-2V5c0-1.1-.9-2-2-2zM9 17H7v-7h2v7zm4 0h-2V7h2v10zm4 0h-2v-4h2v4z\"/>\n",
              "    </g>\n",
              "</svg>\n",
              "      </button>\n",
              "\n",
              "<style>\n",
              "  .colab-df-quickchart {\n",
              "      --bg-color: #E8F0FE;\n",
              "      --fill-color: #1967D2;\n",
              "      --hover-bg-color: #E2EBFA;\n",
              "      --hover-fill-color: #174EA6;\n",
              "      --disabled-fill-color: #AAA;\n",
              "      --disabled-bg-color: #DDD;\n",
              "  }\n",
              "\n",
              "  [theme=dark] .colab-df-quickchart {\n",
              "      --bg-color: #3B4455;\n",
              "      --fill-color: #D2E3FC;\n",
              "      --hover-bg-color: #434B5C;\n",
              "      --hover-fill-color: #FFFFFF;\n",
              "      --disabled-bg-color: #3B4455;\n",
              "      --disabled-fill-color: #666;\n",
              "  }\n",
              "\n",
              "  .colab-df-quickchart {\n",
              "    background-color: var(--bg-color);\n",
              "    border: none;\n",
              "    border-radius: 50%;\n",
              "    cursor: pointer;\n",
              "    display: none;\n",
              "    fill: var(--fill-color);\n",
              "    height: 32px;\n",
              "    padding: 0;\n",
              "    width: 32px;\n",
              "  }\n",
              "\n",
              "  .colab-df-quickchart:hover {\n",
              "    background-color: var(--hover-bg-color);\n",
              "    box-shadow: 0 1px 2px rgba(60, 64, 67, 0.3), 0 1px 3px 1px rgba(60, 64, 67, 0.15);\n",
              "    fill: var(--button-hover-fill-color);\n",
              "  }\n",
              "\n",
              "  .colab-df-quickchart-complete:disabled,\n",
              "  .colab-df-quickchart-complete:disabled:hover {\n",
              "    background-color: var(--disabled-bg-color);\n",
              "    fill: var(--disabled-fill-color);\n",
              "    box-shadow: none;\n",
              "  }\n",
              "\n",
              "  .colab-df-spinner {\n",
              "    border: 2px solid var(--fill-color);\n",
              "    border-color: transparent;\n",
              "    border-bottom-color: var(--fill-color);\n",
              "    animation:\n",
              "      spin 1s steps(1) infinite;\n",
              "  }\n",
              "\n",
              "  @keyframes spin {\n",
              "    0% {\n",
              "      border-color: transparent;\n",
              "      border-bottom-color: var(--fill-color);\n",
              "      border-left-color: var(--fill-color);\n",
              "    }\n",
              "    20% {\n",
              "      border-color: transparent;\n",
              "      border-left-color: var(--fill-color);\n",
              "      border-top-color: var(--fill-color);\n",
              "    }\n",
              "    30% {\n",
              "      border-color: transparent;\n",
              "      border-left-color: var(--fill-color);\n",
              "      border-top-color: var(--fill-color);\n",
              "      border-right-color: var(--fill-color);\n",
              "    }\n",
              "    40% {\n",
              "      border-color: transparent;\n",
              "      border-right-color: var(--fill-color);\n",
              "      border-top-color: var(--fill-color);\n",
              "    }\n",
              "    60% {\n",
              "      border-color: transparent;\n",
              "      border-right-color: var(--fill-color);\n",
              "    }\n",
              "    80% {\n",
              "      border-color: transparent;\n",
              "      border-right-color: var(--fill-color);\n",
              "      border-bottom-color: var(--fill-color);\n",
              "    }\n",
              "    90% {\n",
              "      border-color: transparent;\n",
              "      border-bottom-color: var(--fill-color);\n",
              "    }\n",
              "  }\n",
              "</style>\n",
              "\n",
              "      <script>\n",
              "        async function quickchart(key) {\n",
              "          const quickchartButtonEl =\n",
              "            document.querySelector('#' + key + ' button');\n",
              "          quickchartButtonEl.disabled = true;  // To prevent multiple clicks.\n",
              "          quickchartButtonEl.classList.add('colab-df-spinner');\n",
              "          try {\n",
              "            const charts = await google.colab.kernel.invokeFunction(\n",
              "                'suggestCharts', [key], {});\n",
              "          } catch (error) {\n",
              "            console.error('Error during call to suggestCharts:', error);\n",
              "          }\n",
              "          quickchartButtonEl.classList.remove('colab-df-spinner');\n",
              "          quickchartButtonEl.classList.add('colab-df-quickchart-complete');\n",
              "        }\n",
              "        (() => {\n",
              "          let quickchartButtonEl =\n",
              "            document.querySelector('#df-5ce90863-1666-44da-8258-25ca539de548 button');\n",
              "          quickchartButtonEl.style.display =\n",
              "            google.colab.kernel.accessAllowed ? 'block' : 'none';\n",
              "        })();\n",
              "      </script>\n",
              "    </div>\n",
              "\n",
              "    </div>\n",
              "  </div>\n"
            ],
            "application/vnd.google.colaboratory.intrinsic+json": {
              "type": "dataframe",
              "summary": "{\n  \"name\": \"print(df\",\n  \"rows\": 5,\n  \"fields\": [\n    {\n      \"column\": \"id\",\n      \"properties\": {\n        \"dtype\": \"string\",\n        \"num_unique_values\": 5,\n        \"samples\": [\n          \"000103f0d9cfb60f\",\n          \"0001d958c54c6e35\",\n          \"000113f07ec002fd\"\n        ],\n        \"semantic_type\": \"\",\n        \"description\": \"\"\n      }\n    },\n    {\n      \"column\": \"comment_text\",\n      \"properties\": {\n        \"dtype\": \"string\",\n        \"num_unique_values\": 5,\n        \"samples\": [\n          \"D'aww! He matches this background colour I'm seemingly stuck with. Thanks.  (talk) 21:51, January 11, 2016 (UTC)\",\n          \"You, sir, are my hero. Any chance you remember what page that's on?\",\n          \"Hey man, I'm really not trying to edit war. It's just that this guy is constantly removing relevant information and talking to me through edits instead of my talk page. He seems to care more about the formatting than the actual info.\"\n        ],\n        \"semantic_type\": \"\",\n        \"description\": \"\"\n      }\n    },\n    {\n      \"column\": \"toxic\",\n      \"properties\": {\n        \"dtype\": \"number\",\n        \"std\": 0,\n        \"min\": 0,\n        \"max\": 0,\n        \"num_unique_values\": 1,\n        \"samples\": [\n          0\n        ],\n        \"semantic_type\": \"\",\n        \"description\": \"\"\n      }\n    },\n    {\n      \"column\": \"severe_toxic\",\n      \"properties\": {\n        \"dtype\": \"number\",\n        \"std\": 0,\n        \"min\": 0,\n        \"max\": 0,\n        \"num_unique_values\": 1,\n        \"samples\": [\n          0\n        ],\n        \"semantic_type\": \"\",\n        \"description\": \"\"\n      }\n    },\n    {\n      \"column\": \"obscene\",\n      \"properties\": {\n        \"dtype\": \"number\",\n        \"std\": 0,\n        \"min\": 0,\n        \"max\": 0,\n        \"num_unique_values\": 1,\n        \"samples\": [\n          0\n        ],\n        \"semantic_type\": \"\",\n        \"description\": \"\"\n      }\n    },\n    {\n      \"column\": \"threat\",\n      \"properties\": {\n        \"dtype\": \"number\",\n        \"std\": 0,\n        \"min\": 0,\n        \"max\": 0,\n        \"num_unique_values\": 1,\n        \"samples\": [\n          0\n        ],\n        \"semantic_type\": \"\",\n        \"description\": \"\"\n      }\n    },\n    {\n      \"column\": \"insult\",\n      \"properties\": {\n        \"dtype\": \"number\",\n        \"std\": 0,\n        \"min\": 0,\n        \"max\": 0,\n        \"num_unique_values\": 1,\n        \"samples\": [\n          0\n        ],\n        \"semantic_type\": \"\",\n        \"description\": \"\"\n      }\n    },\n    {\n      \"column\": \"identity_hate\",\n      \"properties\": {\n        \"dtype\": \"number\",\n        \"std\": 0,\n        \"min\": 0,\n        \"max\": 0,\n        \"num_unique_values\": 1,\n        \"samples\": [\n          0\n        ],\n        \"semantic_type\": \"\",\n        \"description\": \"\"\n      }\n    }\n  ]\n}"
            }
          },
          "metadata": {}
        },
        {
          "output_type": "stream",
          "name": "stdout",
          "text": [
            "\n",
            "Data Info:\n",
            "<class 'pandas.core.frame.DataFrame'>\n",
            "RangeIndex: 159571 entries, 0 to 159570\n",
            "Data columns (total 8 columns):\n",
            " #   Column         Non-Null Count   Dtype \n",
            "---  ------         --------------   ----- \n",
            " 0   id             159571 non-null  object\n",
            " 1   comment_text   159571 non-null  object\n",
            " 2   toxic          159571 non-null  int64 \n",
            " 3   severe_toxic   159571 non-null  int64 \n",
            " 4   obscene        159571 non-null  int64 \n",
            " 5   threat         159571 non-null  int64 \n",
            " 6   insult         159571 non-null  int64 \n",
            " 7   identity_hate  159571 non-null  int64 \n",
            "dtypes: int64(6), object(2)\n",
            "memory usage: 9.7+ MB\n",
            "\n",
            "Missing values:\n",
            "id               0\n",
            "comment_text     0\n",
            "toxic            0\n",
            "severe_toxic     0\n",
            "obscene          0\n",
            "threat           0\n",
            "insult           0\n",
            "identity_hate    0\n",
            "dtype: int64\n"
          ]
        }
      ]
    },
    {
      "cell_type": "markdown",
      "source": [
        "A key success metric is handling class imbalance. Let's visualize the distribution of labels to see what we're dealing with.\n",
        "\n"
      ],
      "metadata": {
        "id": "ZXfM1hVo3SoV"
      }
    },
    {
      "cell_type": "code",
      "source": [
        "# @title 2.4: Visualize Label Distribution (Class Imbalance)\n",
        "import matplotlib.pyplot as plt\n",
        "import seaborn as sns\n",
        "\n",
        "# Sum the occurrences of each label\n",
        "label_cols = ['toxic', 'severe_toxic', 'obscene', 'threat', 'insult', 'identity_hate']\n",
        "label_counts = df[label_cols].sum()\n",
        "\n",
        "# Create a bar plot\n",
        "plt.figure(figsize=(10, 6))\n",
        "sns.barplot(x=label_counts.index, y=label_counts.values, palette=\"viridis\")\n",
        "plt.title(\"Distribution of Toxicity Labels\")\n",
        "plt.ylabel(\"Number of Comments\")\n",
        "plt.xlabel(\"Label\")\n",
        "plt.xticks(rotation=45)\n",
        "plt.show()\n",
        "\n",
        "print(\"Label Counts:\\n\", label_counts)"
      ],
      "metadata": {
        "colab": {
          "base_uri": "https://localhost:8080/",
          "height": 871
        },
        "id": "ge1c2u5x3TYZ",
        "outputId": "5fc7373b-8540-402a-d6fb-c08e16db9945"
      },
      "execution_count": 16,
      "outputs": [
        {
          "output_type": "stream",
          "name": "stderr",
          "text": [
            "<ipython-input-16-1210526033>:11: FutureWarning: \n",
            "\n",
            "Passing `palette` without assigning `hue` is deprecated and will be removed in v0.14.0. Assign the `x` variable to `hue` and set `legend=False` for the same effect.\n",
            "\n",
            "  sns.barplot(x=label_counts.index, y=label_counts.values, palette=\"viridis\")\n"
          ]
        },
        {
          "output_type": "display_data",
          "data": {
            "text/plain": [
              "<Figure size 1000x600 with 1 Axes>"
            ],
            "image/png": "[encoded data removed]"
          },
          "metadata": {}
        },
        {
          "output_type": "stream",
          "name": "stdout",
          "text": [
            "Label Counts:\n",
            " toxic            15294\n",
            "severe_toxic      1595\n",
            "obscene           8449\n",
            "threat             478\n",
            "insult            7877\n",
            "identity_hate     1405\n",
            "dtype: int64\n"
          ]
        }
      ]
    },
    {
      "cell_type": "markdown",
      "source": [
        "**Observation:** The dataset is highly imbalanced. The toxic label is the most common, while labels like threat and severe_toxic are very rare. We will need to address this during training."
      ],
      "metadata": {
        "id": "tVK_iu7x3Z2c"
      }
    },
    {
      "cell_type": "markdown",
      "source": [
        "#3. Data Preprocessing\n",
        "We will perform minimal text cleaning. Modern transformer models can often handle raw text quite well, but removing noise like IP addresses and usernames can be beneficial."
      ],
      "metadata": {
        "id": "i4dOSqev3d2O"
      }
    },
    {
      "cell_type": "code",
      "source": [
        "# @title 3.1: Text Cleaning Function\n",
        "import re\n",
        "\n",
        "def clean_text(text):\n",
        "    text = text.lower()  # Lowercase text\n",
        "    text = re.sub(r\"what's\", \"what is \", text)\n",
        "    text = re.sub(r\"\\'s\", \" \", text)\n",
        "    text = re.sub(r\"\\'ve\", \" have \", text)\n",
        "    text = re.sub(r\"can't\", \"cannot \", text)\n",
        "    text = re.sub(r\"n't\", \" not \", text)\n",
        "    text = re.sub(r\"i'm\", \"i am \", text)\n",
        "    text = re.sub(r\"\\'re\", \" are \", text)\n",
        "    text = re.sub(r\"\\'d\", \" would \", text)\n",
        "    text = re.sub(r\"\\'ll\", \" will \", text)\n",
        "    # Remove any characters that are not letters, numbers, or standard punctuation\n",
        "    text = re.sub(r'[^a-z\\s]', '', text, re.I|re.A)\n",
        "    text = text.strip() # remove whitespace\n",
        "    return text\n",
        "\n",
        "# Apply the cleaning function\n",
        "df['cleaned_comment_text'] = df['comment_text'].apply(clean_text)\n",
        "\n",
        "# Show an example\n",
        "print(\"Original:\\n\", df['comment_text'][0])\n",
        "print(\"\\nCleaned:\\n\", df['cleaned_comment_text'][0])"
      ],
      "metadata": {
        "colab": {
          "base_uri": "https://localhost:8080/"
        },
        "id": "fP_lhzSU3izh",
        "outputId": "7e19e5b9-5d9b-48fc-9006-db7f77e9e184"
      },
      "execution_count": 17,
      "outputs": [
        {
          "output_type": "stream",
          "name": "stdout",
          "text": [
            "Original:\n",
            " Explanation\n",
            "Why the edits made under my username Hardcore Metallica Fan were reverted? They weren't vandalisms, just closure on some GAs after I voted at New York Dolls FAC. And please don't remove the template from the talk page since I'm retired now.89.205.38.27\n",
            "\n",
            "Cleaned:\n",
            " explanation\n",
            "why the edits made under my username hardcore metallica fan were reverted they were not  vandalisms just closure on some gas after i voted at new york dolls fac and please do not  remove the template from the talk page since i am  retired now\n"
          ]
        }
      ]
    },
    {
      "cell_type": "markdown",
      "source": [
        "#4. Preparing Data for Hugging Face\n",
        "We need to convert our data into a format that the Hugging Face Trainer API understands. This involves creating a Dataset object and tokenizing the text."
      ],
      "metadata": {
        "id": "9yNhgHlZ3l6j"
      }
    },
    {
      "cell_type": "code",
      "source": [
        "# @title 4.1: Create Hugging Face Dataset\n",
        "from datasets import Dataset\n",
        "\n",
        "# Create labels column as a list of floats\n",
        "df['labels'] = df[label_cols].values.tolist()\n",
        "df_hf = df[['cleaned_comment_text', 'labels']]\n",
        "\n",
        "# Convert to Hugging Face Dataset object\n",
        "dataset = Dataset.from_pandas(df_hf)\n",
        "\n",
        "# Split the dataset into training and testing sets\n",
        "dataset = dataset.train_test_split(test_size=0.1)\n",
        "train_dataset = dataset['train']\n",
        "test_dataset = dataset['test']\n",
        "\n",
        "print(train_dataset)\n",
        "print(test_dataset)"
      ],
      "metadata": {
        "colab": {
          "base_uri": "https://localhost:8080/"
        },
        "id": "V7S9UDLJ3rXT",
        "outputId": "119e055a-8302-4568-8e55-8a9fdcc70123"
      },
      "execution_count": 18,
      "outputs": [
        {
          "output_type": "stream",
          "name": "stdout",
          "text": [
            "Dataset({\n",
            "    features: ['cleaned_comment_text', 'labels'],\n",
            "    num_rows: 143613\n",
            "})\n",
            "Dataset({\n",
            "    features: ['cleaned_comment_text', 'labels'],\n",
            "    num_rows: 15958\n",
            "})\n"
          ]
        }
      ]
    },
    {
      "cell_type": "code",
      "source": [
        "# @title 4.2: Tokenize the Text\n",
        "from transformers import AutoTokenizer\n",
        "\n",
        "MODEL_CHECKPOINT = \"distilbert-base-uncased\"\n",
        "tokenizer = AutoTokenizer.from_pretrained(MODEL_CHECKPOINT)\n",
        "\n",
        "def tokenize_function(examples):\n",
        "    return tokenizer(\n",
        "        examples[\"cleaned_comment_text\"],\n",
        "        padding=\"max_length\",\n",
        "        truncation=True,\n",
        "        max_length=128 # A reasonable max length for comments\n",
        "    )\n",
        "\n",
        "# Apply tokenization to the datasets\n",
        "tokenized_train_dataset = train_dataset.map(tokenize_function, batched=True)\n",
        "tokenized_test_dataset = test_dataset.map(tokenize_function, batched=True)\n",
        "\n",
        "# Remove the original text column as it's no longer needed\n",
        "tokenized_train_dataset = tokenized_train_dataset.remove_columns([\"cleaned_comment_text\"])\n",
        "tokenized_test_dataset = tokenized_test_dataset.remove_columns([\"cleaned_comment_text\"])\n",
        "\n",
        "# Set the format to PyTorch tensors\n",
        "tokenized_train_dataset.set_format(\"torch\")\n",
        "tokenized_test_dataset.set_format(\"torch\")"
      ],
      "metadata": {
        "colab": {
          "base_uri": "https://localhost:8080/",
          "height": 81,
          "referenced_widgets": [
            "ccb780e2e8d84f909882470aaa5c22e7",
            "0601a3a7794e40308fe049f8a98579a1",
            "73f9a2ce9db54024909acb99a9575df7",
            "71919e73f56f4de6bd75b7a9966527ad",
            "28f08f4a38a34f709025d3a99f05bea5",
            "4a02b7fb330f4b28b14e207792e870a1",
            "c7d1f9dc71c24d7c969f3b48536507e2",
            "dc02be90009e4f329dcde46145284b63",
            "bc7c4e4bc18e47d5a1885200eb7de96e",
            "2a2a5ed6e3604422b9139ccdb19563b5",
            "007029d43be349ab9428b4fcac87e300",
            "439747c727da40088873e10351d1c526",
            "36cfa94894034deca88f5c392ed539b3",
            "4edce183c0ab4619bfed0e38fadc696a",
            "680b35245780416597b12564710b720f",
            "366465e56a024309bfd158282ae91d02",
            "541349ea4fb145a68684e43ba5c266bb",
            "32b5991b90724a88933d7c9705f68637",
            "f3240116a8354a41988e82a1c21acea5",
            "3cc4dc6b8aad46e789b25a1825f78c39",
            "0649abe4eb774823926f7b538321cdb3",
            "af31e99f41a34bbeafa901465530a339"
          ]
        },
        "id": "mDK3DELO3tfG",
        "outputId": "d95b779a-c683-4d4f-985f-c74658961f3a"
      },
      "execution_count": 19,
      "outputs": [
        {
          "output_type": "display_data",
          "data": {
            "text/plain": [
              "Map:   0%|          | 0/143613 [00:00<?, ? examples/s]"
            ],
            "application/vnd.jupyter.widget-view+json": {
              "version_major": 2,
              "version_minor": 0,
              "model_id": "ccb780e2e8d84f909882470aaa5c22e7"
            }
          },
          "metadata": {}
        },
        {
          "output_type": "display_data",
          "data": {
            "text/plain": [
              "Map:   0%|          | 0/15958 [00:00<?, ? examples/s]"
            ],
            "application/vnd.jupyter.widget-view+json": {
              "version_major": 2,
              "version_minor": 0,
              "model_id": "439747c727da40088873e10351d1c526"
            }
          },
          "metadata": {}
        }
      ]
    },
    {
      "cell_type": "markdown",
      "source": [
        "#5. Modeling & Training\n",
        "This is the core of the project. We will load a pre-trained DistilBERT model, configure it for multi-label classification, and define a custom `Trainer` to handle the class imbalance."
      ],
      "metadata": {
        "id": "OHiXpE-n5pL7"
      }
    },
    {
      "cell_type": "code",
      "source": [
        "# @title 5.1: Load Pre-trained Model\n",
        "from transformers import AutoModelForSequenceClassification\n",
        "\n",
        "model = AutoModelForSequenceClassification.from_pretrained(\n",
        "    MODEL_CHECKPOINT,\n",
        "    num_labels=len(label_cols),\n",
        "    problem_type=\"multi_label_classification\" # CRITICAL for multi-label task\n",
        ")"
      ],
      "metadata": {
        "colab": {
          "base_uri": "https://localhost:8080/"
        },
        "id": "m12CLGTn3xL1",
        "outputId": "b06a4167-2e9a-4bd7-99d0-4c5ea6c7c33f"
      },
      "execution_count": 20,
      "outputs": [
        {
          "output_type": "stream",
          "name": "stderr",
          "text": [
            "Some weights of DistilBertForSequenceClassification were not initialized from the model checkpoint at distilbert-base-uncased and are newly initialized: ['classifier.bias', 'classifier.weight', 'pre_classifier.bias', 'pre_classifier.weight']\n",
            "You should probably TRAIN this model on a down-stream task to be able to use it for predictions and inference.\n"
          ]
        }
      ]
    },
    {
      "cell_type": "markdown",
      "source": [
        "To handle the severe class imbalance, we'll calculate class weights and use a custom `Trainer` with a weighted loss function. This makes the model pay more attention to the rare classes."
      ],
      "metadata": {
        "id": "_2XPPpZH30Ln"
      }
    },
    {
      "cell_type": "code",
      "source": [
        "# @title 5.2: Configure Custom Trainer for Class Imbalance (Corrected)\n",
        "import torch\n",
        "from transformers import Trainer, TrainingArguments\n",
        "\n",
        "# Calculate positive weights for the loss function\n",
        "# pos_weight = (number of negative samples) / (number of positive samples)\n",
        "pos_weights = (len(df) - label_counts) / label_counts\n",
        "# Ensure the tensor is on the same device as the model (e.g., GPU)\n",
        "pos_weights_tensor = torch.tensor(pos_weights.values).cuda()\n",
        "\n",
        "class MultilabelTrainer(Trainer):\n",
        "    \"\"\"Custom trainer to handle weighted loss for multi-label classification.\"\"\"\n",
        "    # THE FIX: Add **kwargs to the function signature\n",
        "    def compute_loss(self, model, inputs, return_outputs=False, **kwargs):\n",
        "        labels = inputs.pop(\"labels\")\n",
        "        # Forward pass\n",
        "        outputs = model(**inputs)\n",
        "        logits = outputs.get(\"logits\")\n",
        "        # Compute custom loss\n",
        "        loss_fct = torch.nn.BCEWithLogitsLoss(pos_weight=pos_weights_tensor)\n",
        "        loss = loss_fct(logits, labels.float())\n",
        "        return (loss, outputs) if return_outputs else loss"
      ],
      "metadata": {
        "id": "91S8z1ql34Dw"
      },
      "execution_count": 21,
      "outputs": []
    },
    {
      "cell_type": "markdown",
      "source": [
        "Now, we define the metrics for evaluation. It would be nice to have an F1-score greater than 0.90 on the \"toxic\" label"
      ],
      "metadata": {
        "id": "7ClpuViK54i-"
      }
    },
    {
      "cell_type": "code",
      "source": [
        "# @title 5.3: Define Evaluation Metrics\n",
        "from sklearn.metrics import f1_score, roc_auc_score, accuracy_score, classification_report\n",
        "import numpy as np\n",
        "\n",
        "def multi_label_metrics(predictions, labels, threshold=0.5):\n",
        "    # Apply sigmoid on predictions and then a threshold\n",
        "    sigmoid = torch.nn.Sigmoid()\n",
        "    probs = sigmoid(torch.Tensor(predictions))\n",
        "    y_pred = np.zeros(probs.shape)\n",
        "    y_pred[np.where(probs >= threshold)] = 1\n",
        "    y_true = labels\n",
        "\n",
        "    # Calculate metrics\n",
        "    f1_micro_average = f1_score(y_true=y_true, y_pred=y_pred, average='micro')\n",
        "    roc_auc = roc_auc_score(y_true, y_pred, average = 'micro')\n",
        "    accuracy = accuracy_score(y_true, y_pred)\n",
        "\n",
        "    # The metrics dictionary\n",
        "    metrics = {\n",
        "        'f1': f1_micro_average,\n",
        "        'roc_auc': roc_auc,\n",
        "        'accuracy': accuracy\n",
        "    }\n",
        "    return metrics\n",
        "\n",
        "def compute_metrics(eval_pred):\n",
        "    predictions, labels = eval_pred\n",
        "    return multi_label_metrics(predictions, labels)"
      ],
      "metadata": {
        "id": "Va9YHZzx37Ms"
      },
      "execution_count": 22,
      "outputs": []
    },
    {
      "cell_type": "markdown",
      "source": [
        "Finally, we configure the training arguments and start the training process."
      ],
      "metadata": {
        "id": "P2uUqwVX4CIN"
      }
    },
    {
      "cell_type": "code",
      "source": [
        "# @title 5.4: Configure and Start Training\n",
        "training_args = TrainingArguments(\n",
        "    output_dir=f\"{DRIVE_PROJECT_PATH}/checkpoints\",\n",
        "    learning_rate=2e-5,\n",
        "    per_device_train_batch_size=32, # Batch size\n",
        "    per_device_eval_batch_size=32,\n",
        "    num_train_epochs=3, # A few epochs are usually enough for fine-tuning\n",
        "    weight_decay=0.01,\n",
        "    eval_strategy=\"epoch\",\n",
        "    save_strategy=\"epoch\",\n",
        "    load_best_model_at_end=True,\n",
        "    metric_for_best_model=\"f1\",\n",
        "    push_to_hub=False,\n",
        ")\n",
        "\n",
        "trainer = MultilabelTrainer(\n",
        "    model=model,\n",
        "    args=training_args,\n",
        "    train_dataset=tokenized_train_dataset,\n",
        "    eval_dataset=tokenized_test_dataset,\n",
        "    tokenizer=tokenizer,\n",
        "    compute_metrics=compute_metrics\n",
        ")\n",
        "\n",
        "# Start training!\n",
        "trainer.train()"
      ],
      "metadata": {
        "colab": {
          "base_uri": "https://localhost:8080/",
          "height": 519
        },
        "id": "l0L8VivA4Ky4",
        "outputId": "d28db1ca-1da6-4d89-9e32-64de6f557f7b"
      },
      "execution_count": 23,
      "outputs": [
        {
          "output_type": "stream",
          "name": "stderr",
          "text": [
            "<ipython-input-23-274739211>:16: FutureWarning: `tokenizer` is deprecated and will be removed in version 5.0.0 for `MultilabelTrainer.__init__`. Use `processing_class` instead.\n",
            "  trainer = MultilabelTrainer(\n",
            "\u001b[34m\u001b[1mwandb\u001b[0m: \u001b[33mWARNING\u001b[0m The `run_name` is currently set to the same value as `TrainingArguments.output_dir`. If this was not intended, please specify a different run name by setting the `TrainingArguments.run_name` parameter.\n"
          ]
        },
        {
          "output_type": "display_data",
          "data": {
            "text/plain": [
              "<IPython.core.display.Javascript object>"
            ],
            "application/javascript": [
              "\n",
              "        window._wandbApiKey = new Promise((resolve, reject) => {\n",
              "            function loadScript(url) {\n",
              "            return new Promise(function(resolve, reject) {\n",
              "                let newScript = document.createElement(\"script\");\n",
              "                newScript.onerror = reject;\n",
              "                newScript.onload = resolve;\n",
              "                document.body.appendChild(newScript);\n",
              "                newScript.src = url;\n",
              "            });\n",
              "            }\n",
              "            loadScript(\"https://cdn.jsdelivr.net/npm/postmate/build/postmate.min.js\").then(() => {\n",
              "            const iframe = document.createElement('iframe')\n",
              "            iframe.style.cssText = \"width:0;height:0;border:none\"\n",
              "            document.body.appendChild(iframe)\n",
              "            const handshake = new Postmate({\n",
              "                container: iframe,\n",
              "                url: 'https://wandb.ai/authorize'\n",
              "            });\n",
              "            const timeout = setTimeout(() => reject(\"Couldn't auto authenticate\"), 5000)\n",
              "            handshake.then(function(child) {\n",
              "                child.on('authorize', data => {\n",
              "                    clearTimeout(timeout)\n",
              "                    resolve(data)\n",
              "                });\n",
              "            });\n",
              "            })\n",
              "        });\n",
              "    "
            ]
          },
          "metadata": {}
        },
        {
          "output_type": "stream",
          "name": "stderr",
          "text": [
            "\u001b[34m\u001b[1mwandb\u001b[0m: Logging into wandb.ai. (Learn how to deploy a W&B server locally: https://wandb.me/wandb-server)\n",
            "\u001b[34m\u001b[1mwandb\u001b[0m: You can find your API key in your browser here: https://wandb.ai/authorize?ref=models\n",
            "wandb: Paste an API key from your profile and hit enter:"
          ]
        },
        {
          "name": "stdout",
          "output_type": "stream",
          "text": [
            " ··········\n"
          ]
        },
        {
          "output_type": "stream",
          "name": "stderr",
          "text": [
            "\u001b[34m\u001b[1mwandb\u001b[0m: \u001b[33mWARNING\u001b[0m If you're specifying your api key in code, ensure this code is not shared publicly.\n",
            "\u001b[34m\u001b[1mwandb\u001b[0m: \u001b[33mWARNING\u001b[0m Consider setting the WANDB_API_KEY environment variable, or running `wandb login` from the command line.\n",
            "\u001b[34m\u001b[1mwandb\u001b[0m: No netrc file found, creating one.\n",
            "\u001b[34m\u001b[1mwandb\u001b[0m: Appending key for api.wandb.ai to your netrc file: /root/.netrc\n",
            "\u001b[34m\u001b[1mwandb\u001b[0m: Currently logged in as: \u001b[33mgeorgejupiter303\u001b[0m (\u001b[33mgeorgejupiter303-kumoh-national-institute-of-technology\u001b[0m) to \u001b[32mhttps://api.wandb.ai\u001b[0m. Use \u001b[1m`wandb login --relogin`\u001b[0m to force relogin\n"
          ]
        },
        {
          "output_type": "display_data",
          "data": {
            "text/plain": [
              "<IPython.core.display.HTML object>"
            ],
            "text/html": [
              "Tracking run with wandb version 0.19.11"
            ]
          },
          "metadata": {}
        },
        {
          "output_type": "display_data",
          "data": {
            "text/plain": [
              "<IPython.core.display.HTML object>"
            ],
            "text/html": [
              "Run data is saved locally in <code>/content/wandb/run-20250614_074222-uq0lhppn</code>"
            ]
          },
          "metadata": {}
        },
        {
          "output_type": "display_data",
          "data": {
            "text/plain": [
              "<IPython.core.display.HTML object>"
            ],
            "text/html": [
              "Syncing run <strong><a href='https://wandb.ai/georgejupiter303-kumoh-national-institute-of-technology/huggingface/runs/uq0lhppn' target=\"_blank\">/content/drive/MyDrive/ToxicityClassifier/checkpoints</a></strong> to <a href='https://wandb.ai/georgejupiter303-kumoh-national-institute-of-technology/huggingface' target=\"_blank\">Weights & Biases</a> (<a href='https://wandb.me/developer-guide' target=\"_blank\">docs</a>)<br>"
            ]
          },
          "metadata": {}
        },
        {
          "output_type": "display_data",
          "data": {
            "text/plain": [
              "<IPython.core.display.HTML object>"
            ],
            "text/html": [
              " View project at <a href='https://wandb.ai/georgejupiter303-kumoh-national-institute-of-technology/huggingface' target=\"_blank\">https://wandb.ai/georgejupiter303-kumoh-national-institute-of-technology/huggingface</a>"
            ]
          },
          "metadata": {}
        },
        {
          "output_type": "display_data",
          "data": {
            "text/plain": [
              "<IPython.core.display.HTML object>"
            ],
            "text/html": [
              " View run at <a href='https://wandb.ai/georgejupiter303-kumoh-national-institute-of-technology/huggingface/runs/uq0lhppn' target=\"_blank\">https://wandb.ai/georgejupiter303-kumoh-national-institute-of-technology/huggingface/runs/uq0lhppn</a>"
            ]
          },
          "metadata": {}
        },
        {
          "output_type": "display_data",
          "data": {
            "text/plain": [
              "<IPython.core.display.HTML object>"
            ],
            "text/html": [
              "\n",
              "    <div>\n",
              "      \n",
              "      <progress value='13464' max='13464' style='width:300px; height:20px; vertical-align: middle;'></progress>\n",
              "      [13464/13464 1:17:05, Epoch 3/3]\n",
              "    </div>\n",
              "    <table border=\"1\" class=\"dataframe\">\n",
              "  <thead>\n",
              " <tr style=\"text-align: left;\">\n",
              "      <th>Epoch</th>\n",
              "      <th>Training Loss</th>\n",
              "      <th>Validation Loss</th>\n",
              "      <th>F1</th>\n",
              "      <th>Roc Auc</th>\n",
              "      <th>Accuracy</th>\n",
              "    </tr>\n",
              "  </thead>\n",
              "  <tbody>\n",
              "    <tr>\n",
              "      <td>1</td>\n",
              "      <td>0.339000</td>\n",
              "      <td>0.481543</td>\n",
              "      <td>0.726566</td>\n",
              "      <td>0.941787</td>\n",
              "      <td>0.895162</td>\n",
              "    </tr>\n",
              "    <tr>\n",
              "      <td>2</td>\n",
              "      <td>0.271700</td>\n",
              "      <td>0.401713</td>\n",
              "      <td>0.715833</td>\n",
              "      <td>0.948633</td>\n",
              "      <td>0.886640</td>\n",
              "    </tr>\n",
              "    <tr>\n",
              "      <td>3</td>\n",
              "      <td>0.208800</td>\n",
              "      <td>0.500873</td>\n",
              "      <td>0.743714</td>\n",
              "      <td>0.941609</td>\n",
              "      <td>0.903121</td>\n",
              "    </tr>\n",
              "  </tbody>\n",
              "</table><p>"
            ]
          },
          "metadata": {}
        },
        {
          "output_type": "execute_result",
          "data": {
            "text/plain": [
              "TrainOutput(global_step=13464, training_loss=0.32484319644957443, metrics={'train_runtime': 4656.3055, 'train_samples_per_second': 92.528, 'train_steps_per_second': 2.892, 'total_flos': 1.4269048192654848e+16, 'train_loss': 0.32484319644957443, 'epoch': 3.0})"
            ]
          },
          "metadata": {},
          "execution_count": 23
        }
      ]
    },
    {
      "cell_type": "markdown",
      "source": [
        "#6. Evaluation\n",
        "With the training complete, let's evaluate our model's performance on the held-out test set. We'll generate a detailed classification report to inspect the performance for each label."
      ],
      "metadata": {
        "id": "0Zq673-w4NKO"
      }
    },
    {
      "cell_type": "code",
      "source": [
        "# @title 6.1: Final Evaluation on the Test Set\n",
        "print(\"Evaluating on the test set...\")\n",
        "eval_results = trainer.evaluate()\n",
        "print(f\"Final Evaluation Metrics: {eval_results}\")\n",
        "\n",
        "# Generate predictions to create a classification report\n",
        "print(\"\\nGenerating classification report...\")\n",
        "test_predictions = trainer.predict(tokenized_test_dataset)\n",
        "sigmoid = torch.nn.Sigmoid()\n",
        "probs = sigmoid(torch.Tensor(test_predictions.predictions))\n",
        "preds = np.zeros(probs.shape)\n",
        "preds[np.where(probs >= 0.5)] = 1\n",
        "\n",
        "report = classification_report(test_predictions.label_ids, preds, target_names=label_cols, zero_division=0)\n",
        "print(report)"
      ],
      "metadata": {
        "colab": {
          "base_uri": "https://localhost:8080/",
          "height": 349
        },
        "id": "NxXStSZZ4P_V",
        "outputId": "ce7fd44f-4b56-46bc-fe79-91b5d6a5ae9a"
      },
      "execution_count": 24,
      "outputs": [
        {
          "output_type": "stream",
          "name": "stdout",
          "text": [
            "Evaluating on the test set...\n"
          ]
        },
        {
          "output_type": "display_data",
          "data": {
            "text/plain": [
              "<IPython.core.display.HTML object>"
            ],
            "text/html": []
          },
          "metadata": {}
        },
        {
          "output_type": "stream",
          "name": "stdout",
          "text": [
            "Final Evaluation Metrics: {'eval_loss': 0.5008727312088013, 'eval_f1': 0.7437137330754352, 'eval_roc_auc': 0.9416094683762092, 'eval_accuracy': 0.9031206918160171, 'eval_runtime': 54.8641, 'eval_samples_per_second': 290.864, 'eval_steps_per_second': 9.095, 'epoch': 3.0}\n",
            "\n",
            "Generating classification report...\n",
            "               precision    recall  f1-score   support\n",
            "\n",
            "        toxic       0.72      0.90      0.80      1495\n",
            " severe_toxic       0.34      0.84      0.48       157\n",
            "      obscene       0.70      0.94      0.80       804\n",
            "       threat       0.39      0.77      0.52        53\n",
            "       insult       0.61      0.92      0.73       767\n",
            "identity_hate       0.40      0.78      0.53       132\n",
            "\n",
            "    micro avg       0.63      0.90      0.74      3408\n",
            "    macro avg       0.53      0.86      0.64      3408\n",
            " weighted avg       0.65      0.90      0.75      3408\n",
            "  samples avg       0.07      0.08      0.07      3408\n",
            "\n"
          ]
        }
      ]
    },
    {
      "cell_type": "markdown",
      "source": [
        "**Success Metric Check:** Look at the f1-score for the toxic label in the report above."
      ],
      "metadata": {
        "id": "CmqXb9js6U3b"
      }
    },
    {
      "cell_type": "code",
      "source": [
        "# @title 6.2: Find Optimal Thresholds and Re-Evaluate\n",
        "\n",
        "from sklearn.metrics import f1_score\n",
        "import numpy as np\n",
        "\n",
        "# We already have the predictions from the previous cell\n",
        "# test_predictions.predictions are the raw logits\n",
        "# test_predictions.label_ids are the true labels\n",
        "logits = test_predictions.predictions\n",
        "y_true = test_predictions.label_ids\n",
        "\n",
        "# Apply sigmoid to convert logits to probabilities\n",
        "sigmoid = torch.nn.Sigmoid()\n",
        "probs = sigmoid(torch.Tensor(logits))\n",
        "\n",
        "# Find the best threshold for each label\n",
        "best_thresholds = []\n",
        "best_f1_scores = []\n",
        "\n",
        "print(\"Searching for optimal threshold for each label...\")\n",
        "for i, label in enumerate(label_cols):\n",
        "    best_f1 = 0\n",
        "    best_thresh = 0.5\n",
        "    # Test thresholds from 0.1 to 0.9\n",
        "    for threshold in np.arange(0.1, 1.0, 0.05):\n",
        "        y_pred = (probs[:, i] > threshold).int()\n",
        "        f1 = f1_score(y_true[:, i], y_pred)\n",
        "        if f1 > best_f1:\n",
        "            best_f1 = f1\n",
        "            best_thresh = threshold\n",
        "    best_thresholds.append(best_thresh)\n",
        "    best_f1_scores.append(best_f1)\n",
        "    print(f\"- Label: {label}, Best Threshold: {best_thresh:.2f}, Best F1: {best_f1:.4f}\")\n",
        "\n",
        "# Now, let's apply these new thresholds to get a final classification report\n",
        "print(\"\\nGenerating new classification report with optimal thresholds...\")\n",
        "y_pred_optimal = np.zeros(probs.shape)\n",
        "for i in range(len(label_cols)):\n",
        "    y_pred_optimal[:, i] = (probs[:, i] > best_thresholds[i]).int()\n",
        "\n",
        "report = classification_report(y_true, y_pred_optimal, target_names=label_cols, zero_division=0)\n",
        "print(report)"
      ],
      "metadata": {
        "colab": {
          "base_uri": "https://localhost:8080/"
        },
        "id": "6_kfpG8uWdAd",
        "outputId": "46094c69-aa56-4c2b-97ec-8f1a34c3f4e9"
      },
      "execution_count": 25,
      "outputs": [
        {
          "output_type": "stream",
          "name": "stdout",
          "text": [
            "Searching for optimal threshold for each label...\n",
            "- Label: toxic, Best Threshold: 0.90, Best F1: 0.8266\n",
            "- Label: severe_toxic, Best Threshold: 0.95, Best F1: 0.5428\n",
            "- Label: obscene, Best Threshold: 0.90, Best F1: 0.8467\n",
            "- Label: threat, Best Threshold: 0.95, Best F1: 0.5920\n",
            "- Label: insult, Best Threshold: 0.90, Best F1: 0.7700\n",
            "- Label: identity_hate, Best Threshold: 0.90, Best F1: 0.5443\n",
            "\n",
            "Generating new classification report with optimal thresholds...\n",
            "               precision    recall  f1-score   support\n",
            "\n",
            "        toxic       0.82      0.83      0.83      1495\n",
            " severe_toxic       0.44      0.71      0.54       157\n",
            "      obscene       0.82      0.88      0.85       804\n",
            "       threat       0.51      0.70      0.59        53\n",
            "       insult       0.71      0.84      0.77       767\n",
            "identity_hate       0.48      0.63      0.54       132\n",
            "\n",
            "    micro avg       0.75      0.83      0.79      3408\n",
            "    macro avg       0.63      0.76      0.69      3408\n",
            " weighted avg       0.76      0.83      0.79      3408\n",
            "  samples avg       0.07      0.08      0.07      3408\n",
            "\n"
          ]
        }
      ]
    },
    {
      "cell_type": "markdown",
      "source": [
        "#7. Save the Model\n",
        "\n",
        "The final step is to save the trained model and tokenizer. We'll save it in the modern `.safetensors` format"
      ],
      "metadata": {
        "id": "dablhClw4S6z"
      }
    },
    {
      "cell_type": "code",
      "source": [
        "# @title 7.1: Save Model for Future Use\n",
        "MODEL_SAVE_PATH = f\"{DRIVE_PROJECT_PATH}/distilbert-toxicity-classifier\"\n",
        "\n",
        "# Save the model and tokenizer\n",
        "trainer.save_model(MODEL_SAVE_PATH)\n",
        "tokenizer.save_pretrained(MODEL_SAVE_PATH)\n",
        "\n",
        "# Also save in the requested .safetensors format\n",
        "trainer.model.save_pretrained(MODEL_SAVE_PATH, safe_serialization=True)\n",
        "\n",
        "print(f\"Model saved to: {MODEL_SAVE_PATH}\")\n",
        "!ls -l {MODEL_SAVE_PATH} # Verify the files are there"
      ],
      "metadata": {
        "colab": {
          "base_uri": "https://localhost:8080/"
        },
        "id": "FEbrae4o4Z0t",
        "outputId": "dd09bedd-dbd7-4ee2-f3cc-8bd81801e22d"
      },
      "execution_count": 26,
      "outputs": [
        {
          "output_type": "stream",
          "name": "stdout",
          "text": [
            "Model saved to: /content/drive/MyDrive/ToxicityClassifier/distilbert-toxicity-classifier\n",
            "total 262498\n",
            "-rw------- 1 root root       836 Jun 14 09:01 config.json\n",
            "-rw------- 1 root root 267844872 Jun 14 09:01 model.safetensors\n",
            "-rw------- 1 root root       125 Jun 14 09:01 special_tokens_map.json\n",
            "-rw------- 1 root root      1227 Jun 14 09:01 tokenizer_config.json\n",
            "-rw------- 1 root root    711661 Jun 14 09:01 tokenizer.json\n",
            "-rw------- 1 root root      5368 Jun 14 09:01 training_args.bin\n",
            "-rw------- 1 root root    231508 Jun 14 09:01 vocab.txt\n"
          ]
        }
      ]
    },
    {
      "cell_type": "markdown",
      "source": [
        "#8. Inference: Test with Your Own Text\n",
        "Let's do a quick test to see how our fine-tuned model performs on new comments."
      ],
      "metadata": {
        "id": "uEt9dsfm4d45"
      }
    },
    {
      "cell_type": "code",
      "source": [
        "# @title 8.1: Create an Inference Pipeline\n",
        "from transformers import pipeline\n",
        "\n",
        "# Load the saved model\n",
        "pipe = pipeline(\"text-classification\", model=MODEL_SAVE_PATH, tokenizer=MODEL_SAVE_PATH, return_all_scores=True)\n",
        "\n",
        "# Test comments\n",
        "test_comments = [\n",
        "    \"You are an amazing and talented person! Keep up the great work!\",\n",
        "    \"I'm going to find you and hurt you.\",\n",
        "    \"Go back to your country you idiot, you don't belong here.\",\n",
        "    \"That is just a stupid idea, what were you thinking?\"\n",
        "]\n",
        "\n",
        "# Get predictions\n",
        "results = pipe(test_comments)\n",
        "\n",
        "# Display results in a readable format\n",
        "for i, comment in enumerate(test_comments):\n",
        "    print(f\"\\nCOMMENT: \\\"{comment}\\\"\")\n",
        "    # Sort labels by score in descending order\n",
        "    sorted_labels = sorted(results[i], key=lambda x: x['score'], reverse=True)\n",
        "    for label_info in sorted_labels:\n",
        "        # Only show labels with a score > 0.1 for clarity\n",
        "        if label_info['score'] > 0.1:\n",
        "            print(f\"  - {label_info['label']}: {label_info['score']:.4f}\")"
      ],
      "metadata": {
        "colab": {
          "base_uri": "https://localhost:8080/"
        },
        "id": "VlC6FK1r4go6",
        "outputId": "d2053fc4-4d0b-4dc3-adf6-347fb180ae2b"
      },
      "execution_count": 27,
      "outputs": [
        {
          "output_type": "stream",
          "name": "stderr",
          "text": [
            "Device set to use cuda:0\n"
          ]
        },
        {
          "output_type": "stream",
          "name": "stdout",
          "text": [
            "\n",
            "COMMENT: \"You are an amazing and talented person! Keep up the great work!\"\n",
            "\n",
            "COMMENT: \"I'm going to find you and hurt you.\"\n",
            "  - LABEL_3: 0.9856\n",
            "  - LABEL_0: 0.9845\n",
            "  - LABEL_4: 0.3076\n",
            "  - LABEL_2: 0.1495\n",
            "\n",
            "COMMENT: \"Go back to your country you idiot, you don't belong here.\"\n",
            "  - LABEL_4: 0.9962\n",
            "  - LABEL_0: 0.9962\n",
            "  - LABEL_2: 0.9652\n",
            "\n",
            "COMMENT: \"That is just a stupid idea, what were you thinking?\"\n",
            "  - LABEL_0: 0.8687\n"
          ]
        },
        {
          "output_type": "stream",
          "name": "stderr",
          "text": [
            "/usr/local/lib/python3.11/dist-packages/transformers/pipelines/text_classification.py:106: UserWarning: `return_all_scores` is now deprecated,  if want a similar functionality use `top_k=None` instead of `return_all_scores=True` or `top_k=1` instead of `return_all_scores=False`.\n",
            "  warnings.warn(\n"
          ]
        }
      ]
    }
  ]
}